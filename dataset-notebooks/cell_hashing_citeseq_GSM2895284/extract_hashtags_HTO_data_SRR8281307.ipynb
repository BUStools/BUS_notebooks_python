{
 "cells": [
  {
   "cell_type": "markdown",
   "metadata": {},
   "source": [
    "# Using kallisto BUS to call cells"
   ]
  },
  {
   "cell_type": "markdown",
   "metadata": {},
   "source": [
    "Dataset downloaded from https://www.ncbi.nlm.nih.gov/Traces/study/?acc=SRP127179\n",
    "\n",
    "`Study: Cell hashing enable sample multiplexing, multiplet identification and super-loading on droplet-based single cell RNA-sequencing platforms`\n",
    "https://www.ncbi.nlm.nih.gov/geo/query/acc.cgi?acc=GSM2895283\n",
    "\n",
    "```\n",
    "fasta files in GSM2895284:\n",
    "ADT means AntiboDy Tag (used in the citeseq epitope mapping method)\n",
    "HTO means Hash Tag Oligo (used in cell hashing multiplexing method)\n",
    "RNA means the actual transcript reads, which must be cross referenced with the ADT and HTO data\n",
    "\n",
    "GSM2895284: Hashtag-ADT; Homo sapiens; RNA-Seq(SRR8281308)\n",
    "GSM2895283: Hashtag-HTO; Homo sapiens; RNA-Seq(SRR8281307)\n",
    "GSM2895282: Hashtag-RNA; Homo sapiens; RNA-Seq(SRR8281306)\n",
    "    \n",
    "```\n",
    "\n",
    "To download it we use fasterq-dump is a folder named `data`, it takes a while because the 3 datasets (each containing read1 and read 2) are big.\n",
    "```\n",
    "SRR8281306 ~ 253GB after unzip\n",
    "SRR8281307 ~ 30GB after unzip\n",
    "SRR8281308 ~ 35GB after unzip\n",
    "```\n",
    "\n",
    "Instructions on installing `fasterq-dump`: https://github.com/ncbi/sra-tools/wiki/HowTo:-fasterq-dump\n",
    "\n",
    "\n",
    "To download, `cd` to the data folder and just do on your terminal\n",
    "\n",
    "```\n",
    "fasterq-dump SRR8281308\n",
    "fasterq-dump SRR8281307\n",
    "fasterq-dump SRR8281306\n",
    "```\n",
    "\n",
    "\n",
    "\n",
    "\n",
    "bioRxiv preprint:\n",
    "Cell \"hashing\" with barcoded antibodies enables multiplexing and doublet detection for single cell genomics\n",
    "https://www.biorxiv.org/content/early/2017/12/21/237693.full.pdf+html\n",
    "\n",
    "Published on Genome Biology: https://genomebiology.biomedcentral.com/articles/10.1186/s13059-018-1603-1\n"
   ]
  },
  {
   "cell_type": "markdown",
   "metadata": {},
   "source": [
    "\n",
    "\n",
    "Oligonucleotide sequences\n",
    "The following are the oligonucleotide sequences:\n",
    "    \n",
    "```\n",
    "Hashtag oligo: GTGACTGGAGTTCAGACGTGTGCTCTTCCGATCTxxxxxxxxxxxxBAAAAAAAAAAAAAAAAAAAAAAAAAAAAAA*A*A\n",
    "\n",
    "HTO additive: GTGACTGGAGTTCAGACGTGTGCTC\n",
    "\n",
    "ADT additive: CCTTGGCACCCGAGAATTCC\n",
    "\n",
    "SI-PCR: AATGATACGGCGACCACCGAGATCTACACTCTTTCCCTACACGACGC*T*C\n",
    "\n",
    "RPI-x: CAAGCAGAAGACGGCATACGAGATxxxxxxxxGTGACTGGAGTTCCTTGGCACCCGAGAATTCCA\n",
    "\n",
    "D7xx_s: CAAGCAGAAGACGGCATACGAGATxxxxxxxxGTGACTGGAGTTCAGACGTGTGC\n",
    "    \n",
    "x: Barcode or index sequence\n",
    "\n",
    "B: T,G,C, not A\n",
    "\n",
    "*: Phosphorothioate bond\n",
    "```"
   ]
  },
  {
   "cell_type": "code",
   "execution_count": 24,
   "metadata": {},
   "outputs": [],
   "source": [
    "from collections import OrderedDict\n",
    "from Bio import SeqIO\n",
    "import os"
   ]
  },
  {
   "cell_type": "code",
   "execution_count": 146,
   "metadata": {},
   "outputs": [],
   "source": [
    "work_folder = '/home/munfred/hashing/'\n",
    "write_folder = os.path.join(work_folder, 'write')\n",
    "kallisto_output_folder = os.path.join(work_folder, 'kallisto_HTO_output')\n",
    "data_folder = os.path.join(work_folder, 'data')"
   ]
  },
  {
   "cell_type": "code",
   "execution_count": 2,
   "metadata": {},
   "outputs": [],
   "source": [
    "## set parameters - below are parameters for 10x 3' v2 chemistry\n",
    "## The Cell Hashing method uses tags of length 12, we included the contant T in the beginning to make it lenght 13\n",
    "cell_barcode_length = 16\n",
    "UMI_length = 10\n",
    "sample_tag_length=13"
   ]
  },
  {
   "cell_type": "code",
   "execution_count": 3,
   "metadata": {},
   "outputs": [],
   "source": [
    "\"\"\"\n",
    "First, generate a database for all sample tags and their H=1 hamming space.\n",
    "Include an extra C or CAG to the 8-bp barcode to get an odd k-mer length.\n",
    "\"\"\"\n",
    "\n",
    "\"parse the tags file and output the set of tag sequences\"\n",
    "\n",
    "def parse_tags(filename):\n",
    "    odict = OrderedDict()\n",
    "    print('Read the following tags:')\n",
    "    for record in SeqIO.parse(filename, \"fasta\"):\n",
    "        #odict[row[0].encode('utf-8')] = row[1]\n",
    "        counter=0\n",
    "        print(record.seq)\n",
    "        odict[record.name] = str(record.seq)[:sample_tag_length]\n",
    "        for pos in range(sample_tag_length):\n",
    "            if pos == sample_tag_length -1: break\n",
    "            letter =str(record.seq)[pos]\n",
    "            barcode=list(str(record.seq)[:+sample_tag_length])\n",
    "            if letter=='A':\n",
    "                barcode[pos]='T'\n",
    "                odict[record.name+'-'+str(pos)+'-1'] = \"\".join(barcode)\n",
    "                barcode[pos]='G'\n",
    "                odict[record.name+'-'+str(pos)+'-2'] = \"\".join(barcode)\n",
    "                barcode[pos]='C'\n",
    "                odict[record.name+'-'+str(pos)+'-3'] = \"\".join(barcode)\n",
    "            elif letter=='G':\n",
    "                barcode[pos]='T'\n",
    "                odict[record.name+'-'+str(pos)+'-1'] = \"\".join(barcode)\n",
    "                barcode[pos]='A'\n",
    "                odict[record.name+'-'+str(pos)+'-2'] = \"\".join(barcode)\n",
    "                barcode[pos]='C'\n",
    "                odict[record.name+'-'+str(pos)+'-3'] = \"\".join(barcode)\n",
    "            elif letter=='C':\n",
    "                barcode[pos]='T'\n",
    "                odict[record.name+'-'+str(pos)+'-1'] = \"\".join(barcode)\n",
    "                barcode[pos]='G'\n",
    "                odict[record.name+'-'+str(pos)+'-2'] = \"\".join(barcode)\n",
    "                barcode[pos]='A'\n",
    "                odict[record.name+'-'+str(pos)+'-3'] = \"\".join(barcode)\n",
    "            else:\n",
    "                barcode[pos]='A'\n",
    "                odict[record.name+'-'+str(pos)+'-1'] = \"\".join(barcode)\n",
    "                barcode[pos]='G'\n",
    "                odict[record.name+'-'+str(pos)+'-2'] = \"\".join(barcode)\n",
    "                barcode[pos]='C'\n",
    "                odict[record.name+'-'+str(pos)+'-3'] = \"\".join(barcode)\n",
    "                \n",
    "    return odict"
   ]
  },
  {
   "cell_type": "code",
   "execution_count": 9,
   "metadata": {},
   "outputs": [
    {
     "name": "stdout",
     "output_type": "stream",
     "text": [
      "Read the following tags:\n",
      "AGGACCATCCAAT\n",
      "ACATGTTACCGTT\n",
      "AGCTTACTATCCT\n",
      "TCGATAATGCGAT\n",
      "GAGGCTGAGCTAT\n",
      "GTGTGACGTATTT\n",
      "ACTGTCTAACGGT\n",
      "TATCACATCGGTT\n",
      "AGGACCATCCAAC\n",
      "ACATGTTACCGTC\n",
      "AGCTTACTATCCC\n",
      "TCGATAATGCGAC\n",
      "GAGGCTGAGCTAC\n",
      "GTGTGACGTATTC\n",
      "ACTGTCTAACGGC\n",
      "TATCACATCGGTC\n",
      "AGGACCATCCAAG\n",
      "ACATGTTACCGTG\n",
      "AGCTTACTATCCG\n",
      "TCGATAATGCGAG\n",
      "GAGGCTGAGCTAG\n",
      "GTGTGACGTATTG\n",
      "ACTGTCTAACGGG\n",
      "TATCACATCGGTG\n"
     ]
    }
   ],
   "source": [
    "tags = work_folder + \"tags/hashing_tags_len13.fasta\"\n",
    "tag_map=parse_tags(tags)"
   ]
  },
  {
   "cell_type": "code",
   "execution_count": 10,
   "metadata": {},
   "outputs": [
    {
     "data": {
      "text/plain": [
       "888"
      ]
     },
     "execution_count": 10,
     "metadata": {},
     "output_type": "execute_result"
    }
   ],
   "source": [
    "len(tag_map)"
   ]
  },
  {
   "cell_type": "code",
   "execution_count": 11,
   "metadata": {},
   "outputs": [
    {
     "data": {
      "text/plain": [
       "[('hashtagA-T', 'AGGACCATCCAAT'),\n",
       " ('hashtagA-T-0-1', 'TGGACCATCCAAT'),\n",
       " ('hashtagA-T-0-2', 'GGGACCATCCAAT'),\n",
       " ('hashtagA-T-0-3', 'CGGACCATCCAAT'),\n",
       " ('hashtagA-T-1-1', 'ATGACCATCCAAT'),\n",
       " ('hashtagA-T-1-2', 'AAGACCATCCAAT'),\n",
       " ('hashtagA-T-1-3', 'ACGACCATCCAAT'),\n",
       " ('hashtagA-T-2-1', 'AGTACCATCCAAT'),\n",
       " ('hashtagA-T-2-2', 'AGAACCATCCAAT'),\n",
       " ('hashtagA-T-2-3', 'AGCACCATCCAAT'),\n",
       " ('hashtagA-T-3-1', 'AGGTCCATCCAAT'),\n",
       " ('hashtagA-T-3-2', 'AGGGCCATCCAAT'),\n",
       " ('hashtagA-T-3-3', 'AGGCCCATCCAAT'),\n",
       " ('hashtagA-T-4-1', 'AGGATCATCCAAT'),\n",
       " ('hashtagA-T-4-2', 'AGGAGCATCCAAT'),\n",
       " ('hashtagA-T-4-3', 'AGGAACATCCAAT'),\n",
       " ('hashtagA-T-5-1', 'AGGACTATCCAAT'),\n",
       " ('hashtagA-T-5-2', 'AGGACGATCCAAT'),\n",
       " ('hashtagA-T-5-3', 'AGGACAATCCAAT'),\n",
       " ('hashtagA-T-6-1', 'AGGACCTTCCAAT'),\n",
       " ('hashtagA-T-6-2', 'AGGACCGTCCAAT'),\n",
       " ('hashtagA-T-6-3', 'AGGACCCTCCAAT'),\n",
       " ('hashtagA-T-7-1', 'AGGACCAACCAAT'),\n",
       " ('hashtagA-T-7-2', 'AGGACCAGCCAAT'),\n",
       " ('hashtagA-T-7-3', 'AGGACCACCCAAT'),\n",
       " ('hashtagA-T-8-1', 'AGGACCATTCAAT'),\n",
       " ('hashtagA-T-8-2', 'AGGACCATGCAAT'),\n",
       " ('hashtagA-T-8-3', 'AGGACCATACAAT'),\n",
       " ('hashtagA-T-9-1', 'AGGACCATCTAAT'),\n",
       " ('hashtagA-T-9-2', 'AGGACCATCGAAT'),\n",
       " ('hashtagA-T-9-3', 'AGGACCATCAAAT'),\n",
       " ('hashtagA-T-10-1', 'AGGACCATCCTAT'),\n",
       " ('hashtagA-T-10-2', 'AGGACCATCCGAT'),\n",
       " ('hashtagA-T-10-3', 'AGGACCATCCCAT'),\n",
       " ('hashtagA-T-11-1', 'AGGACCATCCATT'),\n",
       " ('hashtagA-T-11-2', 'AGGACCATCCAGT'),\n",
       " ('hashtagA-T-11-3', 'AGGACCATCCACT'),\n",
       " ('hashtagB-T', 'ACATGTTACCGTT'),\n",
       " ('hashtagB-T-0-1', 'TCATGTTACCGTT'),\n",
       " ('hashtagB-T-0-2', 'GCATGTTACCGTT'),\n",
       " ('hashtagB-T-0-3', 'CCATGTTACCGTT'),\n",
       " ('hashtagB-T-1-1', 'ATATGTTACCGTT'),\n",
       " ('hashtagB-T-1-2', 'AGATGTTACCGTT'),\n",
       " ('hashtagB-T-1-3', 'AAATGTTACCGTT'),\n",
       " ('hashtagB-T-2-1', 'ACTTGTTACCGTT'),\n",
       " ('hashtagB-T-2-2', 'ACGTGTTACCGTT'),\n",
       " ('hashtagB-T-2-3', 'ACCTGTTACCGTT'),\n",
       " ('hashtagB-T-3-1', 'ACAAGTTACCGTT'),\n",
       " ('hashtagB-T-3-2', 'ACAGGTTACCGTT'),\n",
       " ('hashtagB-T-3-3', 'ACACGTTACCGTT')]"
      ]
     },
     "execution_count": 11,
     "metadata": {},
     "output_type": "execute_result"
    }
   ],
   "source": [
    "# take a look at the tag dictionary, which includes 1 hamming distance versions of all valid tags\n",
    "list(tag_map.items())[:50]"
   ]
  },
  {
   "cell_type": "code",
   "execution_count": 95,
   "metadata": {},
   "outputs": [],
   "source": [
    "#Write the list of barcodes as a fasta, then make a kallisto index\n",
    "tagmap_filename = \"hash_tagmap_len13.fa\"\n",
    "if not os.path.exists(write_folder): os.makedirs(write_folder)\n",
    "    \n",
    "  "
   ]
  },
  {
   "cell_type": "code",
   "execution_count": 27,
   "metadata": {},
   "outputs": [],
   "source": [
    "tagmap_file = open(os.path.join(write_folder,tagmap_filename) , \"w+\")\n",
    "for i in list(tag_map.keys()):\n",
    "    tagmap_file.write(\">\" + i + \"\\n\" +tag_map[i] + \"\\n\")\n",
    "tagmap_file.close()"
   ]
  },
  {
   "cell_type": "markdown",
   "metadata": {},
   "source": [
    "# Make a kallisto index with your fasta\n",
    "\n",
    "Notice that the `!` starting the line below means it's a bash command\n",
    "\n",
    "Here we take advantadge of being able to call python variable within the bash command\n",
    "\n",
    "Those are the variables enclosed by `{}`\n",
    "\n",
    "In this example `{tagmap_file}` becomes `./write/hash_tagmap_len13.fa`\n",
    "\n",
    "And `{tagmap_file}.idx` becomes `./write/hash_tagmap_len13.fa.idx`, our index file"
   ]
  },
  {
   "cell_type": "code",
   "execution_count": 28,
   "metadata": {},
   "outputs": [
    {
     "name": "stdout",
     "output_type": "stream",
     "text": [
      "\n",
      "[build] loading fasta file /home/munfred/hashing/write/hash_tagmap_len13.fa\n",
      "[build] k-mer length: 13\n",
      "[build] counting k-mers ... done.\n",
      "[build] building target de Bruijn graph ...  done \n",
      "[build] creating equivalence classes ...  done\n",
      "[build] target de Bruijn graph has 888 contigs and contains 888 k-mers \n",
      "\n"
     ]
    }
   ],
   "source": [
    "!kallisto index -i {write_folder + tagmap_filename}.idx -k 13 {write_folder + tagmap_filename}"
   ]
  },
  {
   "cell_type": "code",
   "execution_count": 29,
   "metadata": {},
   "outputs": [
    {
     "name": "stdout",
     "output_type": "stream",
     "text": [
      "[index] k-mer length: 13\n",
      "[index] number of targets: 888\n",
      "[index] number of k-mers: 888\n",
      "[index] number of equivalence classes: 888\n",
      "#[inspect] Index version number = 10\n",
      "#[inspect] k = 13\n",
      "#[inspect] number of targets = 888\n",
      "#[inspect] number of equivalence classes = 888\n",
      "#[inspect] number of contigs = 888\n",
      "#[inspect] Number of k-mers in index = 888\n",
      "#EC.size\tNum.targets\n",
      "1\t888\n",
      "\n",
      "\n",
      "#EC.size\tNum.kmers\n",
      "1\t888\n"
     ]
    }
   ],
   "source": [
    "!kallisto inspect {write_folder + tagmap_filename}.idx"
   ]
  },
  {
   "cell_type": "markdown",
   "metadata": {},
   "source": [
    "# run kallisto bus with hash index against HTO and ADT fastqs"
   ]
  },
  {
   "cell_type": "code",
   "execution_count": 22,
   "metadata": {},
   "outputs": [
    {
     "name": "stdout",
     "output_type": "stream",
     "text": [
      "kallisto 0.45.0\n",
      "Generates BUS files for single cell sequencing\n",
      "\n",
      "Usage: kallisto bus [arguments] FASTQ-files\n",
      "\n",
      "Required arguments:\n",
      "-i, --index=STRING            Filename for the kallisto index to be used for\n",
      "                              pseudoalignment\n",
      "-o, --output-dir=STRING       Directory to write output to\n",
      "-x, --technology=STRING       Single cell technology used \n",
      "\n",
      "Optional arguments:\n",
      "-l, --list                    List all single cell technologies supported\n",
      "-t, --threads=INT             Number of threads to use (default: 1)\n"
     ]
    }
   ],
   "source": [
    "!kallisto bus"
   ]
  },
  {
   "cell_type": "code",
   "execution_count": 23,
   "metadata": {},
   "outputs": [
    {
     "name": "stdout",
     "output_type": "stream",
     "text": [
      "List of supported single cell technologies\n",
      "\n",
      "short name       description\n",
      "----------       -----------\n",
      "10Xv1            10X chemistry version 1\n",
      "10Xv2            10X chemistry verison 2\n",
      "DropSeq          DropSeq\n",
      "inDrop           inDrop\n",
      "CELSeq           CEL-Seq\n",
      "CELSeq2          CEL-Seq version 2\n",
      "SCRBSeq          SCRB-Seq\n",
      "\n"
     ]
    }
   ],
   "source": [
    "!kallisto bus --list\n"
   ]
  },
  {
   "cell_type": "markdown",
   "metadata": {},
   "source": [
    "## HTO (cell hashing)sample aligned with HTO tag index\n",
    "We expect good alignment"
   ]
  },
  {
   "cell_type": "code",
   "execution_count": 30,
   "metadata": {},
   "outputs": [
    {
     "data": {
      "text/plain": [
       "'hash_tagmap_len13.fa'"
      ]
     },
     "execution_count": 30,
     "metadata": {},
     "output_type": "execute_result"
    }
   ],
   "source": [
    "tagmap_filename"
   ]
  },
  {
   "cell_type": "code",
   "execution_count": 47,
   "metadata": {},
   "outputs": [
    {
     "name": "stdout",
     "output_type": "stream",
     "text": [
      "\n",
      "[index] k-mer length: 13\n",
      "[index] number of targets: 888\n",
      "[index] number of k-mers: 888\n",
      "[index] number of equivalence classes: 888\n",
      "[quant] will process sample 1: /home/munfred/hashing/data/SRR8281307_1.fastq\n",
      "                               /home/munfred/hashing/data/SRR8281307_2.fastq\n",
      "[quant] finding pseudoalignments for the reads ... done\n",
      "[quant] processed 74,219,921 reads, 71,707,467 reads pseudoaligned\n"
     ]
    }
   ],
   "source": [
    "!kallisto bus -i {os.path.join(write_folder, tagmap_filename)}.idx -o {kallisto_output_folder} -x 10xv2 -t 40 \\\n",
    "{os.path.join(data_folder,'SRR8281307_1.fastq')} {os.path.join(data_folder, 'SRR8281307_2.fastq')}\n"
   ]
  },
  {
   "cell_type": "markdown",
   "metadata": {},
   "source": [
    "# Process bus file"
   ]
  },
  {
   "cell_type": "code",
   "execution_count": 53,
   "metadata": {},
   "outputs": [
    {
     "data": {
      "text/plain": [
       "'/home/munfred/hashing/kallisto_HTO_output'"
      ]
     },
     "execution_count": 53,
     "metadata": {},
     "output_type": "execute_result"
    }
   ],
   "source": [
    "kallisto_output_folder"
   ]
  },
  {
   "cell_type": "code",
   "execution_count": 54,
   "metadata": {},
   "outputs": [
    {
     "name": "stdout",
     "output_type": "stream",
     "text": [
      "Read in 71707467 number of busrecords\n",
      "All sorted\n"
     ]
    }
   ],
   "source": [
    "#sort bus file\n",
    "!bustools sort -o {os.path.join(kallisto_output_folder,'output_sorted.bus')} {os.path.join(kallisto_output_folder,'output.bus')}"
   ]
  },
  {
   "cell_type": "code",
   "execution_count": 55,
   "metadata": {},
   "outputs": [
    {
     "name": "stdout",
     "output_type": "stream",
     "text": [
      "Read in 21096127 number of busrecords\n"
     ]
    }
   ],
   "source": [
    "# convert the sorted busfile to txt\n",
    "!bustools text -o {os.path.join(kallisto_output_folder,'output_sorted.txt')} {os.path.join(kallisto_output_folder,'output_sorted.bus')}"
   ]
  },
  {
   "cell_type": "markdown",
   "metadata": {},
   "source": [
    "# Collapse the tags on the `output_sorted.txt` bus file"
   ]
  },
  {
   "cell_type": "code",
   "execution_count": 56,
   "metadata": {},
   "outputs": [],
   "source": [
    "import pandas as pd\n",
    "import copy\n",
    "from sklearn.preprocessing import LabelEncoder\n",
    "from scipy import sparse\n",
    "import scipy\n",
    "import numpy as np\n",
    "import anndata\n",
    "%matplotlib inline"
   ]
  },
  {
   "cell_type": "code",
   "execution_count": 69,
   "metadata": {},
   "outputs": [
    {
     "data": {
      "text/html": [
       "<div>\n",
       "<style scoped>\n",
       "    .dataframe tbody tr th:only-of-type {\n",
       "        vertical-align: middle;\n",
       "    }\n",
       "\n",
       "    .dataframe tbody tr th {\n",
       "        vertical-align: top;\n",
       "    }\n",
       "\n",
       "    .dataframe thead th {\n",
       "        text-align: right;\n",
       "    }\n",
       "</style>\n",
       "<table border=\"1\" class=\"dataframe\">\n",
       "  <thead>\n",
       "    <tr style=\"text-align: right;\">\n",
       "      <th></th>\n",
       "      <th>barcode</th>\n",
       "      <th>umi</th>\n",
       "      <th>tag</th>\n",
       "      <th>multiplicity</th>\n",
       "    </tr>\n",
       "  </thead>\n",
       "  <tbody>\n",
       "    <tr>\n",
       "      <th>0</th>\n",
       "      <td>AAAAAAAAAAAAAAAA</td>\n",
       "      <td>AATAAACTTT</td>\n",
       "      <td>0</td>\n",
       "      <td>1</td>\n",
       "    </tr>\n",
       "    <tr>\n",
       "      <th>1</th>\n",
       "      <td>AAAAAAAAAACGAAAA</td>\n",
       "      <td>AAAAAAAAAA</td>\n",
       "      <td>259</td>\n",
       "      <td>1</td>\n",
       "    </tr>\n",
       "    <tr>\n",
       "      <th>2</th>\n",
       "      <td>AAAAAAAAACTGAACG</td>\n",
       "      <td>CGACTCTATA</td>\n",
       "      <td>74</td>\n",
       "      <td>1</td>\n",
       "    </tr>\n",
       "    <tr>\n",
       "      <th>3</th>\n",
       "      <td>AAAAAAAAGGCGAGGC</td>\n",
       "      <td>TGGCGTACCA</td>\n",
       "      <td>518</td>\n",
       "      <td>1</td>\n",
       "    </tr>\n",
       "    <tr>\n",
       "      <th>4</th>\n",
       "      <td>AAAAAAAAGTTCGGCG</td>\n",
       "      <td>GGCCAAAAAA</td>\n",
       "      <td>222</td>\n",
       "      <td>1</td>\n",
       "    </tr>\n",
       "  </tbody>\n",
       "</table>\n",
       "</div>"
      ],
      "text/plain": [
       "            barcode         umi  tag  multiplicity\n",
       "0  AAAAAAAAAAAAAAAA  AATAAACTTT    0             1\n",
       "1  AAAAAAAAAACGAAAA  AAAAAAAAAA  259             1\n",
       "2  AAAAAAAAACTGAACG  CGACTCTATA   74             1\n",
       "3  AAAAAAAAGGCGAGGC  TGGCGTACCA  518             1\n",
       "4  AAAAAAAAGTTCGGCG  GGCCAAAAAA  222             1"
      ]
     },
     "execution_count": 69,
     "metadata": {},
     "output_type": "execute_result"
    }
   ],
   "source": [
    "data = pd.read_csv(os.path.join(kallisto_output_folder,'output_sorted.txt'), delimiter='\\t', header=None, names = ['barcode', 'umi', 'tag', 'multiplicity'])\n",
    "\n",
    "data.head()"
   ]
  },
  {
   "cell_type": "markdown",
   "metadata": {},
   "source": [
    "## First sanity check: plot uncorreceted hashtag abundances\n",
    "\n",
    "We see 8 peaks corresponding to the expected hashed A-H, and several little peaks corresponding to the reads that had one base wrong"
   ]
  },
  {
   "cell_type": "code",
   "execution_count": 58,
   "metadata": {},
   "outputs": [
    {
     "data": {
      "text/plain": [
       "<matplotlib.axes._subplots.AxesSubplot at 0x7f8f56225b00>"
      ]
     },
     "execution_count": 58,
     "metadata": {},
     "output_type": "execute_result"
    },
    {
     "data": {
      "image/png": "[encoded data removed]",
      "text/plain": [
       "<Figure size 432x288 with 1 Axes>"
      ]
     },
     "metadata": {},
     "output_type": "display_data"
    }
   ],
   "source": [
    "data['tag'].hist(bins = 888)\n"
   ]
  },
  {
   "cell_type": "code",
   "execution_count": 70,
   "metadata": {},
   "outputs": [
    {
     "data": {
      "text/html": [
       "<div>\n",
       "<style scoped>\n",
       "    .dataframe tbody tr th:only-of-type {\n",
       "        vertical-align: middle;\n",
       "    }\n",
       "\n",
       "    .dataframe tbody tr th {\n",
       "        vertical-align: top;\n",
       "    }\n",
       "\n",
       "    .dataframe thead th {\n",
       "        text-align: right;\n",
       "    }\n",
       "</style>\n",
       "<table border=\"1\" class=\"dataframe\">\n",
       "  <thead>\n",
       "    <tr style=\"text-align: right;\">\n",
       "      <th></th>\n",
       "      <th>tagname</th>\n",
       "      <th>tagseq</th>\n",
       "      <th>hashtag</th>\n",
       "    </tr>\n",
       "  </thead>\n",
       "  <tbody>\n",
       "    <tr>\n",
       "      <th>0</th>\n",
       "      <td>hashtagA-T</td>\n",
       "      <td>AGGACCATCCAAT</td>\n",
       "      <td>hashtagA</td>\n",
       "    </tr>\n",
       "    <tr>\n",
       "      <th>1</th>\n",
       "      <td>hashtagA-T-0-1</td>\n",
       "      <td>TGGACCATCCAAT</td>\n",
       "      <td>hashtagA</td>\n",
       "    </tr>\n",
       "    <tr>\n",
       "      <th>2</th>\n",
       "      <td>hashtagA-T-0-2</td>\n",
       "      <td>GGGACCATCCAAT</td>\n",
       "      <td>hashtagA</td>\n",
       "    </tr>\n",
       "    <tr>\n",
       "      <th>3</th>\n",
       "      <td>hashtagA-T-0-3</td>\n",
       "      <td>CGGACCATCCAAT</td>\n",
       "      <td>hashtagA</td>\n",
       "    </tr>\n",
       "    <tr>\n",
       "      <th>4</th>\n",
       "      <td>hashtagA-T-1-1</td>\n",
       "      <td>ATGACCATCCAAT</td>\n",
       "      <td>hashtagA</td>\n",
       "    </tr>\n",
       "  </tbody>\n",
       "</table>\n",
       "</div>"
      ],
      "text/plain": [
       "          tagname         tagseq   hashtag\n",
       "0      hashtagA-T  AGGACCATCCAAT  hashtagA\n",
       "1  hashtagA-T-0-1  TGGACCATCCAAT  hashtagA\n",
       "2  hashtagA-T-0-2  GGGACCATCCAAT  hashtagA\n",
       "3  hashtagA-T-0-3  CGGACCATCCAAT  hashtagA\n",
       "4  hashtagA-T-1-1  ATGACCATCCAAT  hashtagA"
      ]
     },
     "execution_count": 70,
     "metadata": {},
     "output_type": "execute_result"
    }
   ],
   "source": [
    "# put tagmap in a dataframe\n",
    "tag_df = pd.DataFrame.from_dict(tag_map, orient = 'index').reset_index()\n",
    "tag_df.columns=['tagname','tagseq']\n",
    "tag_df['hashtag'] = tag_df['tagname'].str.slice(start=0,stop=8)\n",
    "tag_df.head()\n"
   ]
  },
  {
   "cell_type": "code",
   "execution_count": 71,
   "metadata": {},
   "outputs": [
    {
     "data": {
      "text/html": [
       "<div>\n",
       "<style scoped>\n",
       "    .dataframe tbody tr th:only-of-type {\n",
       "        vertical-align: middle;\n",
       "    }\n",
       "\n",
       "    .dataframe tbody tr th {\n",
       "        vertical-align: top;\n",
       "    }\n",
       "\n",
       "    .dataframe thead th {\n",
       "        text-align: right;\n",
       "    }\n",
       "</style>\n",
       "<table border=\"1\" class=\"dataframe\">\n",
       "  <thead>\n",
       "    <tr style=\"text-align: right;\">\n",
       "      <th></th>\n",
       "      <th>barcode</th>\n",
       "      <th>umi</th>\n",
       "      <th>tag</th>\n",
       "      <th>multiplicity</th>\n",
       "    </tr>\n",
       "  </thead>\n",
       "  <tbody>\n",
       "    <tr>\n",
       "      <th>0</th>\n",
       "      <td>AAAAAAAAAAAAAAAA</td>\n",
       "      <td>AATAAACTTT</td>\n",
       "      <td>hashtagA</td>\n",
       "      <td>1</td>\n",
       "    </tr>\n",
       "    <tr>\n",
       "      <th>1</th>\n",
       "      <td>AAAAAAAAAACGAAAA</td>\n",
       "      <td>AAAAAAAAAA</td>\n",
       "      <td>hashtagH</td>\n",
       "      <td>1</td>\n",
       "    </tr>\n",
       "    <tr>\n",
       "      <th>2</th>\n",
       "      <td>AAAAAAAAACTGAACG</td>\n",
       "      <td>CGACTCTATA</td>\n",
       "      <td>hashtagC</td>\n",
       "      <td>1</td>\n",
       "    </tr>\n",
       "    <tr>\n",
       "      <th>3</th>\n",
       "      <td>AAAAAAAAGGCGAGGC</td>\n",
       "      <td>TGGCGTACCA</td>\n",
       "      <td>hashtagG</td>\n",
       "      <td>1</td>\n",
       "    </tr>\n",
       "    <tr>\n",
       "      <th>4</th>\n",
       "      <td>AAAAAAAAGTTCGGCG</td>\n",
       "      <td>GGCCAAAAAA</td>\n",
       "      <td>hashtagG</td>\n",
       "      <td>1</td>\n",
       "    </tr>\n",
       "  </tbody>\n",
       "</table>\n",
       "</div>"
      ],
      "text/plain": [
       "            barcode         umi       tag  multiplicity\n",
       "0  AAAAAAAAAAAAAAAA  AATAAACTTT  hashtagA             1\n",
       "1  AAAAAAAAAACGAAAA  AAAAAAAAAA  hashtagH             1\n",
       "2  AAAAAAAAACTGAACG  CGACTCTATA  hashtagC             1\n",
       "3  AAAAAAAAGGCGAGGC  TGGCGTACCA  hashtagG             1\n",
       "4  AAAAAAAAGTTCGGCG  GGCCAAAAAA  hashtagG             1"
      ]
     },
     "execution_count": 71,
     "metadata": {},
     "output_type": "execute_result"
    }
   ],
   "source": [
    "# maps the tags equivalence classes (which should have a one to one correspondence) to the correct tag\n",
    "data['tag']= data['tag'].map(tag_df['hashtag'])\n",
    "data.head()"
   ]
  },
  {
   "cell_type": "code",
   "execution_count": 72,
   "metadata": {},
   "outputs": [
    {
     "data": {
      "text/plain": [
       "hashtagG    3620200\n",
       "hashtagD    3304874\n",
       "hashtagB    2836998\n",
       "hashtagF    2575345\n",
       "hashtagH    2522968\n",
       "hashtagE    2322790\n",
       "hashtagC    2019601\n",
       "hashtagA    1893351\n",
       "Name: tag, dtype: int64"
      ]
     },
     "execution_count": 72,
     "metadata": {},
     "output_type": "execute_result"
    }
   ],
   "source": [
    "# check tag abundances\n",
    "data['tag'].value_counts()"
   ]
  },
  {
   "cell_type": "markdown",
   "metadata": {},
   "source": [
    "# Export .mtx matrix market file"
   ]
  },
  {
   "cell_type": "code",
   "execution_count": 73,
   "metadata": {},
   "outputs": [
    {
     "data": {
      "text/html": [
       "<div>\n",
       "<style scoped>\n",
       "    .dataframe tbody tr th:only-of-type {\n",
       "        vertical-align: middle;\n",
       "    }\n",
       "\n",
       "    .dataframe tbody tr th {\n",
       "        vertical-align: top;\n",
       "    }\n",
       "\n",
       "    .dataframe thead th {\n",
       "        text-align: right;\n",
       "    }\n",
       "</style>\n",
       "<table border=\"1\" class=\"dataframe\">\n",
       "  <thead>\n",
       "    <tr style=\"text-align: right;\">\n",
       "      <th></th>\n",
       "      <th>barcode</th>\n",
       "      <th>umi</th>\n",
       "      <th>tag</th>\n",
       "      <th>multiplicity</th>\n",
       "    </tr>\n",
       "  </thead>\n",
       "  <tbody>\n",
       "    <tr>\n",
       "      <th>0</th>\n",
       "      <td>AAAAAAAAAAAAAAAA</td>\n",
       "      <td>AATAAACTTT</td>\n",
       "      <td>hashtagA</td>\n",
       "      <td>1</td>\n",
       "    </tr>\n",
       "    <tr>\n",
       "      <th>1</th>\n",
       "      <td>AAAAAAAAAACGAAAA</td>\n",
       "      <td>AAAAAAAAAA</td>\n",
       "      <td>hashtagH</td>\n",
       "      <td>1</td>\n",
       "    </tr>\n",
       "    <tr>\n",
       "      <th>2</th>\n",
       "      <td>AAAAAAAAACTGAACG</td>\n",
       "      <td>CGACTCTATA</td>\n",
       "      <td>hashtagC</td>\n",
       "      <td>1</td>\n",
       "    </tr>\n",
       "    <tr>\n",
       "      <th>3</th>\n",
       "      <td>AAAAAAAAGGCGAGGC</td>\n",
       "      <td>TGGCGTACCA</td>\n",
       "      <td>hashtagG</td>\n",
       "      <td>1</td>\n",
       "    </tr>\n",
       "    <tr>\n",
       "      <th>4</th>\n",
       "      <td>AAAAAAAAGTTCGGCG</td>\n",
       "      <td>GGCCAAAAAA</td>\n",
       "      <td>hashtagG</td>\n",
       "      <td>1</td>\n",
       "    </tr>\n",
       "  </tbody>\n",
       "</table>\n",
       "</div>"
      ],
      "text/plain": [
       "            barcode         umi       tag  multiplicity\n",
       "0  AAAAAAAAAAAAAAAA  AATAAACTTT  hashtagA             1\n",
       "1  AAAAAAAAAACGAAAA  AAAAAAAAAA  hashtagH             1\n",
       "2  AAAAAAAAACTGAACG  CGACTCTATA  hashtagC             1\n",
       "3  AAAAAAAAGGCGAGGC  TGGCGTACCA  hashtagG             1\n",
       "4  AAAAAAAAGTTCGGCG  GGCCAAAAAA  hashtagG             1"
      ]
     },
     "execution_count": 73,
     "metadata": {},
     "output_type": "execute_result"
    }
   ],
   "source": [
    "data.head()"
   ]
  },
  {
   "cell_type": "code",
   "execution_count": 81,
   "metadata": {},
   "outputs": [
    {
     "name": "stdout",
     "output_type": "stream",
     "text": [
      "Counting UMIs...\n",
      "Counted 2094925 unique UMIs\n"
     ]
    },
    {
     "data": {
      "text/html": [
       "<div>\n",
       "<style scoped>\n",
       "    .dataframe tbody tr th:only-of-type {\n",
       "        vertical-align: middle;\n",
       "    }\n",
       "\n",
       "    .dataframe tbody tr th {\n",
       "        vertical-align: top;\n",
       "    }\n",
       "\n",
       "    .dataframe thead th {\n",
       "        text-align: right;\n",
       "    }\n",
       "</style>\n",
       "<table border=\"1\" class=\"dataframe\">\n",
       "  <thead>\n",
       "    <tr style=\"text-align: right;\">\n",
       "      <th></th>\n",
       "      <th>barcode</th>\n",
       "      <th>tag</th>\n",
       "      <th>umi_counts</th>\n",
       "    </tr>\n",
       "  </thead>\n",
       "  <tbody>\n",
       "    <tr>\n",
       "      <th>0</th>\n",
       "      <td>AAAAAAAAAAAAAAAA</td>\n",
       "      <td>hashtagA</td>\n",
       "      <td>1</td>\n",
       "    </tr>\n",
       "    <tr>\n",
       "      <th>1</th>\n",
       "      <td>AAAAAAAAAACGAAAA</td>\n",
       "      <td>hashtagH</td>\n",
       "      <td>1</td>\n",
       "    </tr>\n",
       "    <tr>\n",
       "      <th>2</th>\n",
       "      <td>AAAAAAAAACTGAACG</td>\n",
       "      <td>hashtagC</td>\n",
       "      <td>1</td>\n",
       "    </tr>\n",
       "    <tr>\n",
       "      <th>3</th>\n",
       "      <td>AAAAAAAAGGCGAGGC</td>\n",
       "      <td>hashtagG</td>\n",
       "      <td>1</td>\n",
       "    </tr>\n",
       "    <tr>\n",
       "      <th>4</th>\n",
       "      <td>AAAAAAAAGTTCGGCG</td>\n",
       "      <td>hashtagG</td>\n",
       "      <td>1</td>\n",
       "    </tr>\n",
       "  </tbody>\n",
       "</table>\n",
       "</div>"
      ],
      "text/plain": [
       "            barcode       tag  umi_counts\n",
       "0  AAAAAAAAAAAAAAAA  hashtagA           1\n",
       "1  AAAAAAAAAACGAAAA  hashtagH           1\n",
       "2  AAAAAAAAACTGAACG  hashtagC           1\n",
       "3  AAAAAAAAGGCGAGGC  hashtagG           1\n",
       "4  AAAAAAAAGTTCGGCG  hashtagG           1"
      ]
     },
     "execution_count": 81,
     "metadata": {},
     "output_type": "execute_result"
    }
   ],
   "source": [
    "print('Counting UMIs...')\n",
    "counted_data = data.groupby(['barcode', 'tag'])['umi'].count().reset_index()\n",
    "counted_data.rename(columns={'umi':'umi_counts'}, inplace = True)\n",
    "print('Counted', len(counted_data), 'unique UMIs')\n",
    "counted_data.head()"
   ]
  },
  {
   "cell_type": "code",
   "execution_count": 91,
   "metadata": {},
   "outputs": [
    {
     "name": "stdout",
     "output_type": "stream",
     "text": [
      "Counting unique cell barcodes...\n",
      "Counted 2094925 unique cell barcodes\n"
     ]
    },
    {
     "data": {
      "text/html": [
       "<div>\n",
       "<style scoped>\n",
       "    .dataframe tbody tr th:only-of-type {\n",
       "        vertical-align: middle;\n",
       "    }\n",
       "\n",
       "    .dataframe tbody tr th {\n",
       "        vertical-align: top;\n",
       "    }\n",
       "\n",
       "    .dataframe thead th {\n",
       "        text-align: right;\n",
       "    }\n",
       "</style>\n",
       "<table border=\"1\" class=\"dataframe\">\n",
       "  <thead>\n",
       "    <tr style=\"text-align: right;\">\n",
       "      <th></th>\n",
       "      <th>tag</th>\n",
       "      <th>barcode_counts</th>\n",
       "    </tr>\n",
       "  </thead>\n",
       "  <tbody>\n",
       "    <tr>\n",
       "      <th>0</th>\n",
       "      <td>hashtagA</td>\n",
       "      <td>205712</td>\n",
       "    </tr>\n",
       "    <tr>\n",
       "      <th>1</th>\n",
       "      <td>hashtagB</td>\n",
       "      <td>262168</td>\n",
       "    </tr>\n",
       "    <tr>\n",
       "      <th>2</th>\n",
       "      <td>hashtagC</td>\n",
       "      <td>227460</td>\n",
       "    </tr>\n",
       "    <tr>\n",
       "      <th>3</th>\n",
       "      <td>hashtagD</td>\n",
       "      <td>300741</td>\n",
       "    </tr>\n",
       "    <tr>\n",
       "      <th>4</th>\n",
       "      <td>hashtagE</td>\n",
       "      <td>240913</td>\n",
       "    </tr>\n",
       "    <tr>\n",
       "      <th>5</th>\n",
       "      <td>hashtagF</td>\n",
       "      <td>259452</td>\n",
       "    </tr>\n",
       "    <tr>\n",
       "      <th>6</th>\n",
       "      <td>hashtagG</td>\n",
       "      <td>343616</td>\n",
       "    </tr>\n",
       "    <tr>\n",
       "      <th>7</th>\n",
       "      <td>hashtagH</td>\n",
       "      <td>254863</td>\n",
       "    </tr>\n",
       "  </tbody>\n",
       "</table>\n",
       "</div>"
      ],
      "text/plain": [
       "        tag  barcode_counts\n",
       "0  hashtagA          205712\n",
       "1  hashtagB          262168\n",
       "2  hashtagC          227460\n",
       "3  hashtagD          300741\n",
       "4  hashtagE          240913\n",
       "5  hashtagF          259452\n",
       "6  hashtagG          343616\n",
       "7  hashtagH          254863"
      ]
     },
     "execution_count": 91,
     "metadata": {},
     "output_type": "execute_result"
    }
   ],
   "source": [
    "print('Counting unique cell barcodes...')\n",
    "barcode_counted_data = counted_data.groupby(['tag'])['barcode'].count().reset_index()\n",
    "barcode_counted_data.rename(columns={'barcode':'barcode_counts'}, inplace = True)\n",
    "print('Counted', barcode_counted_data['barcode_counts'].sum(), 'unique cell barcodes')\n",
    "barcode_counted_data"
   ]
  },
  {
   "cell_type": "code",
   "execution_count": 92,
   "metadata": {},
   "outputs": [
    {
     "name": "stdout",
     "output_type": "stream",
     "text": [
      "Barcode index shape: (2094925,)\n",
      "UMI index shape: (2094925,)\n",
      "Tag index shape: (2094925,)\n"
     ]
    }
   ],
   "source": [
    "# encode barcode, umi and hashtags, which are strings, as ints\n",
    "le_barcode = LabelEncoder()\n",
    "barcode_idx =le_barcode.fit_transform(counted_data['barcode'].values)\n",
    "print('Barcode index shape:', barcode_idx.shape)\n",
    "\n",
    "le_umi = LabelEncoder()\n",
    "umi_idx = le_umi.fit_transform(counted_data['umi_counts'].values)\n",
    "print('UMI index shape:', umi_idx.shape)\n",
    "\n",
    "le_tag = LabelEncoder()\n",
    "tag_idx = le_tag.fit_transform(counted_data['tag'].values)\n",
    "print('Tag index shape:', tag_idx.shape)"
   ]
  },
  {
   "cell_type": "code",
   "execution_count": 93,
   "metadata": {},
   "outputs": [],
   "source": [
    "# put the counts table into a sparse matrix\n",
    "x = scipy.sparse.csr_matrix((counted_data['umi_counts'].values,(barcode_idx,tag_idx)))"
   ]
  },
  {
   "cell_type": "code",
   "execution_count": 104,
   "metadata": {},
   "outputs": [],
   "source": [
    "# write everything to file\n",
    "scipy.io.mmwrite(os.path.join(write_folder,'HTO_hashtag_counts.mtx'),x)\n",
    "pd.DataFrame(le_tag.classes_).to_csv(os.path.join(write_folder,'HTO_mtx_hashtags.csv'), index = False, header = False)\n",
    "pd.DataFrame(le_barcode.classes_).to_csv(os.path.join(write_folder,'HTO_mtx_cell_barcodes.csv'), index = False, header = False)"
   ]
  },
  {
   "cell_type": "markdown",
   "metadata": {},
   "source": [
    "# Import the mtx using anndata"
   ]
  },
  {
   "cell_type": "code",
   "execution_count": 109,
   "metadata": {},
   "outputs": [],
   "source": [
    "adata = anndata.AnnData(scipy.io.mmread(os.path.join(write_folder,'HTO_hashtag_counts.mtx')))"
   ]
  },
  {
   "cell_type": "code",
   "execution_count": 119,
   "metadata": {},
   "outputs": [
    {
     "data": {
      "text/plain": [
       "(1376870, 1)"
      ]
     },
     "execution_count": 119,
     "metadata": {},
     "output_type": "execute_result"
    }
   ],
   "source": [
    "pd.read_csv(os.path.join(write_folder,'HTO_mtx_cell_barcodes.csv'),header=None, names=['hashtags']).shape"
   ]
  },
  {
   "cell_type": "code",
   "execution_count": 120,
   "metadata": {},
   "outputs": [
    {
     "data": {
      "text/plain": [
       "(1376870, 1)"
      ]
     },
     "execution_count": 120,
     "metadata": {},
     "output_type": "execute_result"
    }
   ],
   "source": [
    "pd.read_csv(os.path.join(write_folder,'HTO_mtx_cell_barcodes.csv'),header=None, names=['cell_barcodes']).shape"
   ]
  },
  {
   "cell_type": "code",
   "execution_count": 121,
   "metadata": {},
   "outputs": [],
   "source": [
    "adata.obs = pd.read_csv(os.path.join(write_folder,'HTO_mtx_cell_barcodes.csv'),header=None, names=['cell_barcodes'])\n",
    "adata.var = pd.read_csv(os.path.join(write_folder,'HTO_mtx_hashtags.csv'),header=None, names=['hashtags'])"
   ]
  },
  {
   "cell_type": "code",
   "execution_count": 122,
   "metadata": {},
   "outputs": [
    {
     "data": {
      "text/plain": [
       "array([[1893351., 2836998., 2019601., 3304874., 2322790., 2575345.,\n",
       "        3620200., 2522968.]], dtype=float32)"
      ]
     },
     "execution_count": 122,
     "metadata": {},
     "output_type": "execute_result"
    }
   ],
   "source": [
    "sorted_HTO = np.array(copy.deepcopy(adata.X.sum(axis=0)))\n",
    "sorted_HTO"
   ]
  },
  {
   "cell_type": "code",
   "execution_count": 128,
   "metadata": {},
   "outputs": [],
   "source": [
    "import scanpy\n",
    "import scanpy.api as sc\n"
   ]
  },
  {
   "cell_type": "code",
   "execution_count": 133,
   "metadata": {},
   "outputs": [],
   "source": [
    "sc.tl.pca(adata, svd_solver='arpack')\n"
   ]
  },
  {
   "cell_type": "code",
   "execution_count": 134,
   "metadata": {},
   "outputs": [
    {
     "data": {
      "image/png": "[encoded data removed]",
      "text/plain": [
       "<Figure size 432x288 with 1 Axes>"
      ]
     },
     "metadata": {},
     "output_type": "display_data"
    }
   ],
   "source": [
    "sc.pl.pca(adata)\n"
   ]
  },
  {
   "cell_type": "code",
   "execution_count": 136,
   "metadata": {},
   "outputs": [
    {
     "data": {
      "image/png": "[encoded data removed]",
      "text/plain": [
       "<Figure size 432x288 with 1 Axes>"
      ]
     },
     "metadata": {},
     "output_type": "display_data"
    }
   ],
   "source": [
    "scanpy.api.pl.pca_variance_ratio(adata)"
   ]
  }
 ],
 "metadata": {
  "kernelspec": {
   "display_name": "Python 3",
   "language": "python",
   "name": "python3"
  },
  "language_info": {
   "codemirror_mode": {
    "name": "ipython",
    "version": 3
   },
   "file_extension": ".py",
   "mimetype": "text/x-python",
   "name": "python",
   "nbconvert_exporter": "python",
   "pygments_lexer": "ipython3",
   "version": "3.6.3"
  }
 },
 "nbformat": 4,
 "nbformat_minor": 2
}
