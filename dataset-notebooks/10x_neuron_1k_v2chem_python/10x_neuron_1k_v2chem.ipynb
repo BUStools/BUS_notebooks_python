{
 "cells": [
  {
   "cell_type": "code",
   "execution_count": 1,
   "metadata": {},
   "outputs": [],
   "source": [
    "import matplotlib\n",
    "import numpy as np\n",
    "import matplotlib.pyplot as plt\n",
    "import sys, collections, os, argparse\n",
    "%matplotlib inline  "
   ]
  },
  {
   "cell_type": "markdown",
   "metadata": {},
   "source": [
    "# Download the 10x Dataset `1k Brain Cells from an E18 Mouse (v2 chemistry)`\n",
    "\n",
    "10x datasets are available at\n",
    "https://support.10xgenomics.com/single-cell-gene-expression/datasets\n",
    "\n",
    "The page for the `1k Brain Cells from an E18 Mouse (v2 chemistry)` dataset is\n",
    "https://support.10xgenomics.com/single-cell-gene-expression/datasets/3.0.0/neuron_1k_v2\n",
    "\n",
    "But the FASTQ files (7.4GB) can be downloaded with `wget` directly (without giving them email info) from http://cf.10xgenomics.com/samples/cell-exp/3.0.0/neuron_1k_v2/neuron_1k_v2_fastqs.tar\n",
    "\n",
    "In the cell below we check if the dataset file `neuron_1k_v2_fastqs.tar` already exists. If not we download the dataset to the same directory as this notebook\n"
   ]
  },
  {
   "cell_type": "code",
   "execution_count": 2,
   "metadata": {},
   "outputs": [
    {
     "name": "stdout",
     "output_type": "stream",
     "text": [
      "--2018-12-03 16:58:37--  http://cf.10xgenomics.com/samples/cell-exp/3.0.0/neuron_1k_v2/neuron_1k_v2_fastqs.tar\n",
      "Resolving cf.10xgenomics.com (cf.10xgenomics.com)... 13.35.99.80, 13.35.99.77, 13.35.99.113, ...\n",
      "Connecting to cf.10xgenomics.com (cf.10xgenomics.com)|13.35.99.80|:80... connected.\n",
      "HTTP request sent, awaiting response... 200 OK\n",
      "Length: 7971788800 (7.4G) [application/x-tar]\n",
      "Saving to: ‘neuron_1k_v2_fastqs.tar’\n",
      "\n",
      "100%[====================================>] 7,971,788,800 29.1MB/s   in 3m 28s \n",
      "\n",
      "2018-12-03 17:02:11 (36.5 MB/s) - ‘neuron_1k_v2_fastqs.tar’ saved [7971788800/7971788800]\n",
      "\n"
     ]
    }
   ],
   "source": [
    "#Check if the file was downloaded already before doing wget:\n",
    "if not (os.path.isfile('./neuron_1k_v2_fastqs.tar')): \n",
    "    # the `!` means we're running a command line statement (rather than python)  \n",
    "    !wget http://cf.10xgenomics.com/samples/cell-exp/3.0.0/neuron_1k_v2/neuron_1k_v2_fastqs.tar\n",
    "else: print('Dataset already downloaded!')\n"
   ]
  },
  {
   "cell_type": "markdown",
   "metadata": {},
   "source": [
    "Because this dataset was run on two lanes, we need to uncompress the FASTQ files and concatenate them before using kallisto bus. If we had a single file kallisto could take gz files as is."
   ]
  },
  {
   "cell_type": "code",
   "execution_count": 3,
   "metadata": {},
   "outputs": [
    {
     "name": "stdout",
     "output_type": "stream",
     "text": [
      "neuron_1k_v2_fastqs/\n",
      "neuron_1k_v2_fastqs/neuron_1k_v2_S1_L002_I1_001.fastq.gz\n",
      "neuron_1k_v2_fastqs/neuron_1k_v2_S1_L001_R2_001.fastq.gz\n",
      "neuron_1k_v2_fastqs/neuron_1k_v2_S1_L001_R1_001.fastq.gz\n",
      "neuron_1k_v2_fastqs/neuron_1k_v2_S1_L002_R1_001.fastq.gz\n",
      "neuron_1k_v2_fastqs/neuron_1k_v2_S1_L001_I1_001.fastq.gz\n",
      "neuron_1k_v2_fastqs/neuron_1k_v2_S1_L002_R2_001.fastq.gz\n"
     ]
    }
   ],
   "source": [
    "# now we untar the fastq files on neuron_1k_v2_fastqs folder\n",
    "!tar -xvf ./neuron_1k_v2_fastqs.tar"
   ]
  },
  {
   "cell_type": "markdown",
   "metadata": {},
   "source": [
    "# Buiding the kallisto index\n",
    "\n",
    "First make sure that kallisto is installed and the version is greater than 0.45\n",
    "\n",
    "If it's not installed, see instructions at https://pachterlab.github.io/kallisto/download"
   ]
  },
  {
   "cell_type": "code",
   "execution_count": 4,
   "metadata": {},
   "outputs": [
    {
     "name": "stdout",
     "output_type": "stream",
     "text": [
      "kallisto, version 0.45.0\n"
     ]
    }
   ],
   "source": [
    "!kallisto version "
   ]
  },
  {
   "cell_type": "markdown",
   "metadata": {},
   "source": [
    "First we build the kallisto index for the dataset. \n",
    "The index is built from the published reference transcriptome for each organism.\n",
    "Building the index takes a few minutes and needs to be done only once for each organism.\n",
    "\n",
    "### Download reference transcriptome from ensembl\n",
    "In order to do that we first download the mouse transcriptome from ensembl, you can see the reference genomes they have at https://uswest.ensembl.org/info/data/ftp/index.html"
   ]
  },
  {
   "cell_type": "code",
   "execution_count": 5,
   "metadata": {},
   "outputs": [
    {
     "name": "stdout",
     "output_type": "stream",
     "text": [
      "--2018-12-03 17:02:29--  ftp://ftp.ensembl.org/pub/release-94/fasta/mus_musculus/cdna/Mus_musculus.GRCm38.cdna.all.fa.gz\n",
      "           => ‘Mus_musculus.GRCm38.cdna.all.fa.gz’\n",
      "Resolving ftp.ensembl.org (ftp.ensembl.org)... 193.62.193.8\n",
      "Connecting to ftp.ensembl.org (ftp.ensembl.org)|193.62.193.8|:21... connected.\n",
      "Logging in as anonymous ... Logged in!\n",
      "==> SYST ... done.    ==> PWD ... done.\n",
      "==> TYPE I ... done.  ==> CWD (1) /pub/release-94/fasta/mus_musculus/cdna ... done.\n",
      "==> SIZE Mus_musculus.GRCm38.cdna.all.fa.gz ... 50809568\n",
      "==> PASV ... done.    ==> RETR Mus_musculus.GRCm38.cdna.all.fa.gz ... done.\n",
      "Length: 50809568 (48M) (unauthoritative)\n",
      "\n",
      "100%[======================================>] 50,809,568  3.25MB/s   in 16s    \n",
      "\n",
      "2018-12-03 17:02:52 (3.03 MB/s) - ‘Mus_musculus.GRCm38.cdna.all.fa.gz’ saved [50809568]\n",
      "\n"
     ]
    }
   ],
   "source": [
    "#Check if the file was downloaded already before doing wget:\n",
    "if not (os.path.isfile('Mus_musculus.GRCm38.cdna.all.fa.gz')): \n",
    "    # the `!` means we're running a command line statement (rather than python)  \n",
    "    !wget ftp://ftp.ensembl.org/pub/release-94/fasta/mus_musculus/cdna/Mus_musculus.GRCm38.cdna.all.fa.gz\n",
    "else: print('Mouse transcriptome already downloaded!')\n"
   ]
  },
  {
   "cell_type": "code",
   "execution_count": 6,
   "metadata": {},
   "outputs": [
    {
     "name": "stdout",
     "output_type": "stream",
     "text": [
      "\n",
      "[build] loading fasta file Mus_musculus.GRCm38.cdna.all.fa.gz\n",
      "[build] k-mer length: 31\n",
      "[build] warning: clipped off poly-A tail (longer than 10)\n",
      "        from 600 target sequences\n",
      "[build] warning: replaced 3 non-ACGUT characters in the input sequence\n",
      "        with pseudorandom nucleotides\n",
      "[build] counting k-mers ... done.\n",
      "[build] building target de Bruijn graph ...  done \n",
      "[build] creating equivalence classes ...  done\n",
      "[build] target de Bruijn graph has 711215 contigs and contains 98989067 k-mers \n",
      "\n"
     ]
    }
   ],
   "source": [
    "### Now we can build the index\n",
    "if not (os.path.isfile('mouse_transcripts.idx')): \n",
    "    !kallisto index -i mouse_transcripts.idx Mus_musculus.GRCm38.cdna.all.fa.gz\n",
    "else: print ('Mouse transcript index already exist!')"
   ]
  },
  {
   "cell_type": "markdown",
   "metadata": {},
   "source": [
    "# Preparing transcript_to_gene.tsv file process the single cell data with kallisto bus"
   ]
  },
  {
   "cell_type": "markdown",
   "metadata": {},
   "source": [
    "Depending on which transcriptome you used, you will need to create a file translating transcripts to genes. This notebook assumes the file is in `transcript_to_gene.tsv`, for ensembl transcriptomes these can be generated using biomart.\n",
    "\n",
    "The general format of `transcript_to_gene.tsv` is\n",
    "\n",
    "```\n",
    "ENST00000632684.1\tENSG00000282431.1\n",
    "ENST00000434970.2\tENSG00000237235.2\n",
    "ENST00000448914.1\tENSG00000228985.1\n",
    "ENST00000415118.1\tENSG00000223997.1\n",
    "ENST00000631435.1\tENSG00000282253.1\n",
    "...\n",
    "```\n",
    "\n",
    "To create the `transcript_to_gene.tsv` we fetch and parse the mouse GTF file from ensembl.\n",
    "\n",
    "The reference GTF files are available at https://uswest.ensembl.org/info/data/ftp/index.html\n",
    "\n",
    "The mouse ones which we use are at ftp://ftp.ensembl.org/pub/release-94/gtf/mus_musculus"
   ]
  },
  {
   "cell_type": "code",
   "execution_count": 7,
   "metadata": {},
   "outputs": [
    {
     "name": "stdout",
     "output_type": "stream",
     "text": [
      "--2018-12-03 17:06:41--  ftp://ftp.ensembl.org/pub/release-94/gtf/mus_musculus/Mus_musculus.GRCm38.94.gtf.gz\n",
      "           => ‘Mus_musculus.GRCm38.94.gtf.gz’\n",
      "Resolving ftp.ensembl.org (ftp.ensembl.org)... 193.62.193.8\n",
      "Connecting to ftp.ensembl.org (ftp.ensembl.org)|193.62.193.8|:21... connected.\n",
      "Logging in as anonymous ... Logged in!\n",
      "==> SYST ... done.    ==> PWD ... done.\n",
      "==> TYPE I ... done.  ==> CWD (1) /pub/release-94/gtf/mus_musculus ... done.\n",
      "==> SIZE Mus_musculus.GRCm38.94.gtf.gz ... 29397390\n",
      "==> PASV ... done.    ==> RETR Mus_musculus.GRCm38.94.gtf.gz ... done.\n",
      "Length: 29397390 (28M) (unauthoritative)\n",
      "\n",
      "100%[======================================>] 29,397,390  3.00MB/s   in 9.3s   \n",
      "\n",
      "2018-12-03 17:06:57 (3.01 MB/s) - ‘Mus_musculus.GRCm38.94.gtf.gz’ saved [29397390]\n",
      "\n"
     ]
    }
   ],
   "source": [
    "#Check if the file was downloaded already before doing wget:\n",
    "if not (os.path.isfile('Mus_musculus.GRCm38.94.gtf.gz') or os.path.isfile('Mus_musculus.GRCm38.94.gtf')): \n",
    "    # the `!` means we're running a command line statement (rather than python)  \n",
    "    !wget ftp://ftp.ensembl.org/pub/release-94/gtf/mus_musculus/Mus_musculus.GRCm38.94.gtf.gz\n",
    "else: print('Mouse transcriptome already downloaded!')\n"
   ]
  },
  {
   "cell_type": "code",
   "execution_count": 8,
   "metadata": {},
   "outputs": [],
   "source": [
    "# Unzip the file\n",
    "!gunzip ./Mus_musculus.GRCm38.94.gtf.gz"
   ]
  },
  {
   "cell_type": "markdown",
   "metadata": {},
   "source": [
    "## Create transcript_to_gene.tsv\n",
    "\n",
    "Now we can use the cells below to parse the GTF file and keep only the transcript mapping as a tsv file in the format below.\n",
    "```\n",
    "ENST00000632684.1\tENSG00000282431.1\n",
    "ENST00000434970.2\tENSG00000237235.2\n",
    "ENST00000448914.1\tENSG00000228985.1\n",
    "```"
   ]
  },
  {
   "cell_type": "code",
   "execution_count": 9,
   "metadata": {},
   "outputs": [],
   "source": [
    "def create_transcript_list(input, use_name = False, use_version = True):\n",
    "    r = {}\n",
    "    for line in input:\n",
    "        if len(line) == 0 or line[0] == '#':\n",
    "            continue\n",
    "        l = line.strip().split('\\t')\n",
    "        if l[2] == 'transcript':\n",
    "            info = l[8]\n",
    "            d = {}\n",
    "            for x in info.split('; '):\n",
    "                x = x.strip()\n",
    "                p = x.find(' ')\n",
    "                if p == -1:\n",
    "                    continue\n",
    "                k = x[:p]\n",
    "                p = x.find('\"',p)\n",
    "                p2 = x.find('\"',p+1)\n",
    "                v = x[p+1:p2]\n",
    "                d[k] = v\n",
    "\n",
    "\n",
    "            if 'transcript_id' not in d or 'gene_id' not in d:\n",
    "                continue\n",
    "\n",
    "            tid = d['transcript_id']\n",
    "            gid = d['gene_id']\n",
    "            if use_version:\n",
    "                if 'transcript_version' not in d or 'gene_version' not in d:\n",
    "                    continue\n",
    "\n",
    "                tid += '.' + d['transcript_version']\n",
    "                gid += '.' + d['gene_version']\n",
    "            gname = None\n",
    "            if use_name:\n",
    "                if 'gene_name' not in d:\n",
    "                    continue\n",
    "                gname = d['gene_name']\n",
    "\n",
    "            if tid in r:\n",
    "                continue\n",
    "\n",
    "            r[tid] = (gid, gname)\n",
    "    return r\n",
    "\n",
    "\n",
    "\n",
    "def print_output(output, r, use_name = True):\n",
    "    for tid in r:\n",
    "        if use_name:\n",
    "            output.write(\"%s\\t%s\\t%s\\n\"%(tid, r[tid][0], r[tid][1]))\n",
    "        else:\n",
    "            output.write(\"%s\\t%s\\n\"%(tid, r[tid][0]))"
   ]
  },
  {
   "cell_type": "code",
   "execution_count": 10,
   "metadata": {},
   "outputs": [
    {
     "name": "stdout",
     "output_type": "stream",
     "text": [
      "Created transcript_to_gene.tsv file\n"
     ]
    }
   ],
   "source": [
    "with open('./Mus_musculus.GRCm38.94.gtf') as file:\n",
    "    r = create_transcript_list(file, use_name = False, use_version = True)\n",
    "with open('transcript_to_gene.tsv', \"w+\") as output:\n",
    "    print_output(output, r, use_name = False)\n",
    "print('Created transcript_to_gene.tsv file')"
   ]
  },
  {
   "cell_type": "markdown",
   "metadata": {},
   "source": [
    "# Run kallisto bus\n",
    "kallisto bus supports several single cell sequencing technologies, as you can see below. We'll be using 10xv2            "
   ]
  },
  {
   "cell_type": "code",
   "execution_count": 11,
   "metadata": {},
   "outputs": [
    {
     "name": "stdout",
     "output_type": "stream",
     "text": [
      "List of supported single cell technologies\n",
      "\n",
      "short name       description\n",
      "----------       -----------\n",
      "10Xv1            10X chemistry version 1\n",
      "10Xv2            10X chemistry verison 2\n",
      "DropSeq          DropSeq\n",
      "inDrop           inDrop\n",
      "CELSeq           CEL-Seq\n",
      "CELSeq2          CEL-Seq version 2\n",
      "SCRBSeq          SCRB-Seq\n",
      "\n"
     ]
    }
   ],
   "source": [
    "!kallisto bus --list"
   ]
  },
  {
   "cell_type": "code",
   "execution_count": 12,
   "metadata": {},
   "outputs": [
    {
     "name": "stdout",
     "output_type": "stream",
     "text": [
      "\n",
      "[index] k-mer length: 31\n",
      "[index] number of targets: 115,270\n",
      "[index] number of k-mers: 98,989,067\n",
      "[index] number of equivalence classes: 419,171\n",
      "[quant] will process sample 1: ./neuron_1k_v2_fastqs/neuron_1k_v2_S1_L001_R1_001.fastq.gz\n",
      "                               ./neuron_1k_v2_fastqs/neuron_1k_v2_S1_L001_R2_001.fastq.gz\n",
      "[quant] will process sample 2: ./neuron_1k_v2_fastqs/neuron_1k_v2_S1_L002_R1_001.fastq.gz\n",
      "                               ./neuron_1k_v2_fastqs/neuron_1k_v2_S1_L002_R2_001.fastq.gz\n",
      "[quant] finding pseudoalignments for the reads ... done\n",
      "[quant] processed 104,846,299 reads, 73,297,108 reads pseudoaligned\n"
     ]
    }
   ],
   "source": [
    "!kallisto bus -i mouse_transcripts.idx  -o out_1k_mouse_brain_v2 -x 10xv2 -t 4 \\\n",
    "./neuron_1k_v2_fastqs/neuron_1k_v2_S1_L001_R1_001.fastq.gz \\\n",
    "./neuron_1k_v2_fastqs/neuron_1k_v2_S1_L001_R2_001.fastq.gz \\\n",
    "./neuron_1k_v2_fastqs/neuron_1k_v2_S1_L002_R1_001.fastq.gz \\\n",
    "./neuron_1k_v2_fastqs/neuron_1k_v2_S1_L002_R2_001.fastq.gz"
   ]
  },
  {
   "cell_type": "markdown",
   "metadata": {},
   "source": [
    "### The `matrix.ec` file\n",
    "\n",
    "The `matrix.ec` is generated by kallisto and connects the equivalence class ids to sets of transcripts. The format looks like\n",
    "~~~\n",
    "0\t0\n",
    "1\t1\n",
    "2\t2\n",
    "3\t3\n",
    "4\t4\n",
    "...\n",
    "\n",
    "884398\t26558,53383,53384,69915,69931,85319,109252,125730\n",
    "884399\t7750,35941,114698,119265\n",
    "884400\t9585,70083,92571,138545,138546\n",
    "884401\t90512,90513,134202,159456\n",
    "~~~"
   ]
  },
  {
   "cell_type": "code",
   "execution_count": 13,
   "metadata": {},
   "outputs": [],
   "source": [
    "#load transcript to gene file\n",
    "tr2g = {}\n",
    "trlist = []\n",
    "with open('./transcript_to_gene.tsv') as f:\n",
    "    for line in f:\n",
    "        l = line.split()\n",
    "        tr2g[l[0]] = l[1]\n",
    "        trlist.append(l[0])\n",
    "\n",
    "genes = list(set(tr2g[t] for t in tr2g))\n",
    "\n",
    "# load equivalence classes\n",
    "ecs = {}\n",
    "with open('./out_1k_mouse_brain_v2/matrix.ec') as f:\n",
    "    for line in f:\n",
    "        l = line.split()\n",
    "        ec = int(l[0])\n",
    "        trs = [int(x) for x in l[1].split(',')]\n",
    "        ecs[ec] = trs\n",
    "        \n",
    "def ec2g(ec):\n",
    "    if ec in ecs:\n",
    "        return list(set(tr2g[trlist[t]] for t in ecs[ec]))        \n",
    "    else:\n",
    "        return []"
   ]
  },
  {
   "cell_type": "markdown",
   "metadata": {},
   "source": [
    "### Processing the BUS file\n",
    "\n",
    "For these notebooks we will work with the text file that `BUStools` produces, rather than the raw `BUS` file. \n",
    "To install `BUStools` see https://github.com/BUStools/bustools\n",
    "\n",
    "We discard any barcodes that don't have more 10 UMIs \n",
    "\n",
    "To produce the text file, starting with the `output.bus` file produced by kallisto, we first sort it on bustools:\n",
    "```\n",
    "bustools sort -o output.sorted output.bus\n",
    "```\n",
    "Then we convert it to txt:\n",
    "```\n",
    "bustools text -o output.sorted.txt output.sorted\n",
    "```\n",
    "\n"
   ]
  },
  {
   "cell_type": "code",
   "execution_count": 14,
   "metadata": {},
   "outputs": [
    {
     "name": "stdout",
     "output_type": "stream",
     "text": [
      "Read in 73297108 number of busrecords\n",
      "All sorted\n"
     ]
    }
   ],
   "source": [
    "#sort bus file\n",
    "!bustools sort -o ./out_1k_mouse_brain_v2/output.sorted ./out_1k_mouse_brain_v2/output.bus"
   ]
  },
  {
   "cell_type": "code",
   "execution_count": 15,
   "metadata": {},
   "outputs": [
    {
     "name": "stdout",
     "output_type": "stream",
     "text": [
      "Read in 21115457 number of busrecords\n"
     ]
    }
   ],
   "source": [
    "# convert the sorted busfile to txt\n",
    "!bustools text -o ./out_1k_mouse_brain_v2/output.sorted.txt ./out_1k_mouse_brain_v2/output.sorted"
   ]
  },
  {
   "cell_type": "markdown",
   "metadata": {},
   "source": [
    "# Plot the bus file results"
   ]
  },
  {
   "cell_type": "code",
   "execution_count": 16,
   "metadata": {},
   "outputs": [],
   "source": [
    "import csv\n",
    "from collections import defaultdict\n",
    "\n",
    "# precompute because this is constant per ec\n",
    "ec2g = {ec:frozenset(tr2g[trlist[t]] for t in ecs[ec]) for ec in ecs}\n",
    "\n",
    "# first pass: collect gene sets\n",
    "bcu_gs = dict()\n",
    "\n",
    "with open('./out_1k_mouse_brain_v2/output.sorted.txt') as f:\n",
    "    rdr = csv.reader(f, delimiter='\\t')\n",
    "    for bar,umi,ec,_ in rdr:\n",
    "        gs = ec2g[int(ec)]\n",
    "\n",
    "        if (bar,umi) in bcu_gs:\n",
    "            bcu_gs[bar,umi].intersection_update(gs)\n",
    "        else:\n",
    "            bcu_gs[bar,umi] = set(gs)\n",
    "\n",
    "# second pass: compute gene counts\n",
    "cell_gene = defaultdict(lambda: defaultdict(float))\n",
    "\n",
    "for (bar,umi),gs in bcu_gs.items():\n",
    "    for g in gs:\n",
    "        cell_gene[bar][g] += 1.0 / len(gs)\n",
    "\n",
    "# finally: filter out barcodes below threshold\n",
    "cell_gene = {bar:cell_gene[bar] for bar in cell_gene\n",
    "              if sum(cell_gene[bar].values()) >= 10.0}"
   ]
  },
  {
   "cell_type": "code",
   "execution_count": 17,
   "metadata": {},
   "outputs": [],
   "source": [
    "barcode_hist = collections.defaultdict(int)\n",
    "for barcode in cell_gene:\n",
    "    cg = cell_gene[barcode]\n",
    "    s = len([cg[g] for g in cg])\n",
    "    barcode_hist[barcode] += s\n",
    "    "
   ]
  },
  {
   "cell_type": "markdown",
   "metadata": {},
   "source": [
    "### Download the 10x whitelist"
   ]
  },
  {
   "cell_type": "code",
   "execution_count": 18,
   "metadata": {},
   "outputs": [
    {
     "name": "stdout",
     "output_type": "stream",
     "text": [
      "--2018-12-03 17:13:32--  https://github.com/10XGenomics/supernova/blob/master/tenkit/lib/python/tenkit/barcodes/737K-august-2016.txt\n",
      "Resolving github.com (github.com)... 192.30.255.113, 192.30.255.112\n",
      "Connecting to github.com (github.com)|192.30.255.113|:443... connected.\n",
      "HTTP request sent, awaiting response... 200 OK\n",
      "Length: unspecified [text/html]\n",
      "Saving to: ‘737K-august-2016.txt’\n",
      "\n",
      "    [ <=>                                   ] 56,530      --.-K/s   in 0.06s   \n",
      "\n",
      "2018-12-03 17:13:37 (993 KB/s) - ‘737K-august-2016.txt’ saved [56530]\n",
      "\n"
     ]
    }
   ],
   "source": [
    "!wget https://github.com/10XGenomics/supernova/blob/master/tenkit/lib/python/tenkit/barcodes/737K-august-2016.txt"
   ]
  },
  {
   "cell_type": "code",
   "execution_count": 19,
   "metadata": {},
   "outputs": [],
   "source": [
    "whitelist = set(x.strip() for x in open('737K-august-2016.txt'))"
   ]
  },
  {
   "cell_type": "markdown",
   "metadata": {},
   "source": [
    "### Plot counts"
   ]
  },
  {
   "cell_type": "code",
   "execution_count": 20,
   "metadata": {},
   "outputs": [
    {
     "name": "stdout",
     "output_type": "stream",
     "text": [
      "1291\n"
     ]
    },
    {
     "data": {
      "image/png": "[encoded data removed]",
      "text/plain": [
       "<Figure size 432x288 with 1 Axes>"
      ]
     },
     "metadata": {},
     "output_type": "display_data"
    }
   ],
   "source": [
    "bcv = [x for b,x in barcode_hist.items() if x > 600 and x < 12000]\n",
    "_ = plt.hist(bcv,bins=100)\n",
    "print(len(bcv))"
   ]
  },
  {
   "cell_type": "code",
   "execution_count": null,
   "metadata": {},
   "outputs": [],
   "source": []
  }
 ],
 "metadata": {
  "kernelspec": {
   "display_name": "Python 3",
   "language": "python",
   "name": "python3"
  },
  "language_info": {
   "codemirror_mode": {
    "name": "ipython",
    "version": 3
   },
   "file_extension": ".py",
   "mimetype": "text/x-python",
   "name": "python",
   "nbconvert_exporter": "python",
   "pygments_lexer": "ipython3",
   "version": "3.6.3"
  }
 },
 "nbformat": 4,
 "nbformat_minor": 2
}
