{
 "cells": [
  {
   "cell_type": "code",
   "execution_count": null,
   "metadata": {},
   "outputs": [],
   "source": [
    "import numpy as np\n",
    "import pickle\n",
    "import mygene\n",
    "import gzip"
   ]
  },
  {
   "cell_type": "code",
   "execution_count": null,
   "metadata": {
    "scrolled": true
   },
   "outputs": [],
   "source": [
    "#Homo_sapiens\n",
    "ref='GRCh38'\n",
    "path_to_ref='/home/vasilis/refs/Homo_sapiens.GRCh38.cdna.all.fa.gz'      \n",
    "ens_='ENS'\n",
    "\n",
    "# #Mus_musculus\n",
    "# ref='Mus_musculus.GRCm38'\n",
    "# path_to_ref='/home/vasilis/refs/Mus_musculus.GRCm38.cdna.all.fa.gz' \n",
    "# ens_='ENSMUS'"
   ]
  },
  {
   "cell_type": "markdown",
   "metadata": {},
   "source": [
    "#### tr2g and g2tr"
   ]
  },
  {
   "cell_type": "code",
   "execution_count": null,
   "metadata": {},
   "outputs": [],
   "source": [
    "def readENS_ids(path_to_ref):\n",
    "    TX_to_ENSG={}\n",
    "    ENSG_isoforms={}\n",
    "    tx_cnt=0;\n",
    "    with gzip.open(path_to_ref) as f:\n",
    "        for line in f:\n",
    "            if line.decode('UTF-8')[0]=='>':\n",
    "                    liner=line.decode('UTF-8')\n",
    "                    ensg=ens_+'G'+liner.split(ens_+'G',1)[1][:11]\n",
    "                    enst=ens_+'T'+liner.split(ens_+'T',1)[1][:11]\n",
    "                    TX_to_ENSG[enst] = ensg\n",
    "                    ENSG_isoforms[ensg] = ENSG_isoforms.get(ensg, [])\n",
    "                    ENSG_isoforms[ensg].append(enst)\n",
    "                    tx_cnt+=1 \n",
    "    return [TX_to_ENSG,ENSG_isoforms]"
   ]
  },
  {
   "cell_type": "code",
   "execution_count": null,
   "metadata": {},
   "outputs": [],
   "source": [
    "[TX_to_ENSG,ENSG_isoforms]=readENS_ids(path_to_ref) "
   ]
  },
  {
   "cell_type": "code",
   "execution_count": null,
   "metadata": {},
   "outputs": [],
   "source": [
    "with open(ref+'_tr2g.pickle', 'wb') as handle:\n",
    "    pickle.dump(TX_to_ENSG, handle, protocol=pickle.HIGHEST_PROTOCOL)\n",
    "    \n",
    "with open(ref+'_g2tr.pickle', 'wb') as handle:\n",
    "    pickle.dump(ENSG_isoforms, handle, protocol=pickle.HIGHEST_PROTOCOL)"
   ]
  },
  {
   "cell_type": "code",
   "execution_count": null,
   "metadata": {},
   "outputs": [],
   "source": [
    "ENSGLIST=list(np.unique(list(TX_to_ENSG.values())))"
   ]
  },
  {
   "cell_type": "code",
   "execution_count": null,
   "metadata": {},
   "outputs": [],
   "source": [
    "print('number of genes: ',len(ENSGLIST))"
   ]
  },
  {
   "cell_type": "markdown",
   "metadata": {},
   "source": [
    "#### ginfo and g2n"
   ]
  },
  {
   "cell_type": "code",
   "execution_count": null,
   "metadata": {
    "scrolled": true
   },
   "outputs": [],
   "source": [
    "mg = mygene.MyGeneInfo()\n",
    "ginfo = mg.querymany(ENSGLIST, scopes='ensembl.gene',returnall=True)"
   ]
  },
  {
   "cell_type": "code",
   "execution_count": null,
   "metadata": {},
   "outputs": [],
   "source": [
    "g2n = {}\n",
    "count_exept=0\n",
    "for g in ginfo['out']:\n",
    "    try:\n",
    "        gene_id=str(g['query'])\n",
    "        gene_name=str(g['symbol'])\n",
    "        \n",
    "        g2n[gene_id] = g2n.get(gene_id, [])\n",
    "        g2n[gene_id].append(str(g['symbol']))                \n",
    "    except KeyError:\n",
    "        count_exept+=1\n",
    "        g2n[ str(g['query']) ] = [str(g['query'])]\n",
    "        \n",
    "n2g = {}\n",
    "count_exept=0\n",
    "for g in ginfo['out']:\n",
    "    try:\n",
    "        gene_id=str(g['query'])\n",
    "        gene_name=str(g['symbol'])\n",
    "        \n",
    "        n2g[gene_name] = n2g.get(gene_name, [])\n",
    "        n2g[gene_name].append(gene_id)                \n",
    "    except KeyError:\n",
    "        count_exept+=1\n",
    "        n2g[ gene_id ] = [gene_id]"
   ]
  },
  {
   "cell_type": "code",
   "execution_count": null,
   "metadata": {},
   "outputs": [],
   "source": [
    "with open(ref+'_ginfo.pickle', 'wb') as handle:\n",
    "    pickle.dump(ginfo, handle, protocol=pickle.HIGHEST_PROTOCOL)   \n",
    "    \n",
    "with open(ref+'_g2n.pickle', 'wb') as handle:\n",
    "    pickle.dump(g2n, handle, protocol=pickle.HIGHEST_PROTOCOL)  \n",
    "    \n",
    "with open(ref+'_n2g.pickle', 'wb') as handle:\n",
    "    pickle.dump(n2g, handle, protocol=pickle.HIGHEST_PROTOCOL)  "
   ]
  },
  {
   "cell_type": "code",
   "execution_count": null,
   "metadata": {},
   "outputs": [],
   "source": [
    "  "
   ]
  }
 ],
 "metadata": {
  "kernelspec": {
   "display_name": "Python 3",
   "language": "python",
   "name": "python3"
  },
  "language_info": {
   "codemirror_mode": {
    "name": "ipython",
    "version": 3
   },
   "file_extension": ".py",
   "mimetype": "text/x-python",
   "name": "python",
   "nbconvert_exporter": "python",
   "pygments_lexer": "ipython3",
   "version": "3.6.5"
  }
 },
 "nbformat": 4,
 "nbformat_minor": 2
}
